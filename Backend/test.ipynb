{
 "cells": [
  {
   "cell_type": "code",
   "execution_count": null,
   "metadata": {},
   "outputs": [],
   "source": [
    "import pandas as pd\n",
    "from Bio import SeqIO\n",
    "import os"
   ]
  },
  {
   "cell_type": "code",
   "execution_count": null,
   "metadata": {},
   "outputs": [],
   "source": [
    "DATASET_PATH = \"Covid India Dataset/\"\n",
    "os.listdir(DATASET_PATH)"
   ]
  },
  {
   "cell_type": "code",
   "execution_count": null,
   "metadata": {},
   "outputs": [],
   "source": [
    "# open fasta files\n",
    "fasta_sequences = []\n",
    "for fasta in os.listdir(DATASET_PATH):\n",
    "    if fasta.endswith(\".fasta\"):\n",
    "        for seq_record in SeqIO.parse(DATASET_PATH + fasta, \"fasta\"):\n",
    "            fasta_sequences.append(seq_record)\n",
    "\n"
   ]
  },
  {
   "cell_type": "code",
   "execution_count": null,
   "metadata": {},
   "outputs": [],
   "source": [
    "for seq_record in fasta_sequences:\n",
    "    print(seq_record.id)\n",
    "    print(repr(seq_record.seq))\n",
    "    print(len(seq_record))\n",
    "    print(\"\")"
   ]
  },
  {
   "cell_type": "code",
   "execution_count": null,
   "metadata": {},
   "outputs": [],
   "source": [
    "# print metadata\n",
    "metadata = pd.read_csv(DATASET_PATH + \"metadata.csv\")\n",
    "metadata.head()"
   ]
  },
  {
   "cell_type": "code",
   "execution_count": null,
   "metadata": {},
   "outputs": [],
   "source": [
    "# metadat should only contain accession id, related id and location\n",
    "metadata = metadata[[\"Accession ID\", \"Related ID\", \"Location\"]]\n",
    "metadata.head()"
   ]
  },
  {
   "cell_type": "code",
   "execution_count": null,
   "metadata": {},
   "outputs": [],
   "source": [
    "# if accession id starts with EPI_ISL_ then replace entire id with empty string\n",
    "metadata[\"Accession ID\"] = metadata[\"Accession ID\"].apply(lambda x: \"\" if str(x).startswith(\"EPI_ISL_\") else str(x))\n",
    "\n",
    "# if related id starts with EPI_ISL_ then replace entire id with empty string\n",
    "metadata[\"Related ID\"] = metadata[\"Related ID\"].apply(lambda x: \"\" if str(x).startswith(\"EPI_ISL_\") else str(x))"
   ]
  },
  {
   "cell_type": "code",
   "execution_count": null,
   "metadata": {},
   "outputs": [],
   "source": [
    "# if accession id is empty then replace it with related id\n",
    "metadata[\"Accession ID\"] = metadata.apply(lambda x: x[\"Related ID\"] if x[\"Accession ID\"] == \"\" else x[\"Accession ID\"], axis=1)"
   ]
  },
  {
   "cell_type": "code",
   "execution_count": null,
   "metadata": {},
   "outputs": [],
   "source": [
    "# remove related id column\n",
    "metadata = metadata[[\"Accession ID\", \"Location\"]]\n",
    "metadata.head()"
   ]
  },
  {
   "cell_type": "code",
   "execution_count": null,
   "metadata": {},
   "outputs": [],
   "source": [
    "# if accession id ends with .1 then remove .1\n",
    "metadata[\"Accession ID\"] = metadata[\"Accession ID\"].apply(lambda x: x[:-2] if str(x).endswith(\".1\") else str(x))"
   ]
  },
  {
   "cell_type": "code",
   "execution_count": null,
   "metadata": {},
   "outputs": [],
   "source": [
    "# rename accession id column to id\n",
    "metadata = metadata.rename(columns={\"Accession ID\": \"ID\"})"
   ]
  },
  {
   "cell_type": "code",
   "execution_count": null,
   "metadata": {},
   "outputs": [],
   "source": [
    "metadata.head()"
   ]
  },
  {
   "cell_type": "code",
   "execution_count": null,
   "metadata": {},
   "outputs": [],
   "source": [
    "fasta_seq = []\n",
    "for seq_record in fasta_sequences:\n",
    "    fasta_seq.append([str(seq_record.id), str(seq_record.seq)])\n",
    "\n",
    "fasta_seq = pd.DataFrame(fasta_seq, columns=[\"ID\", \"Sequence\"])\n",
    "fasta_seq.head()"
   ]
  },
  {
   "cell_type": "code",
   "execution_count": null,
   "metadata": {},
   "outputs": [],
   "source": [
    "# merge metadata and fasta_seq\n",
    "merged = pd.merge(metadata, fasta_seq, on=\"ID\")\n",
    "merged.head()"
   ]
  },
  {
   "cell_type": "code",
   "execution_count": null,
   "metadata": {},
   "outputs": [],
   "source": [
    "# save merged dataframe to csv\n",
    "merged.to_csv(DATASET_PATH + \"merged.csv\", index=False)"
   ]
  }
 ],
 "metadata": {
  "kernelspec": {
   "display_name": "Python 3",
   "language": "python",
   "name": "python3"
  },
  "language_info": {
   "codemirror_mode": {
    "name": "ipython",
    "version": 3
   },
   "file_extension": ".py",
   "mimetype": "text/x-python",
   "name": "python",
   "nbconvert_exporter": "python",
   "pygments_lexer": "ipython3",
   "version": "3.10.2"
  }
 },
 "nbformat": 4,
 "nbformat_minor": 2
}
